{
 "cells": [
  {
   "cell_type": "markdown",
   "id": "f98f3ed6",
   "metadata": {},
   "source": [
    "# Simple Arithmetic"
   ]
  },
  {
   "cell_type": "code",
   "execution_count": 1,
   "id": "e72f0b95",
   "metadata": {},
   "outputs": [],
   "source": [
    "import numpy as np"
   ]
  },
  {
   "cell_type": "code",
   "execution_count": 2,
   "id": "d191c35c",
   "metadata": {
    "scrolled": true
   },
   "outputs": [],
   "source": [
    "arr1=np.array([1,4,7,9])\n",
    "arr2=np.array([2,5,1,4])"
   ]
  },
  {
   "cell_type": "code",
   "execution_count": 3,
   "id": "02dc80e0",
   "metadata": {},
   "outputs": [
    {
     "data": {
      "text/plain": [
       "array([ 3,  9,  8, 13])"
      ]
     },
     "execution_count": 3,
     "metadata": {},
     "output_type": "execute_result"
    }
   ],
   "source": [
    "#addition \n",
    "arr_add=np.add(arr1,arr2)\n",
    "arr_add"
   ]
  },
  {
   "cell_type": "code",
   "execution_count": 4,
   "id": "a6980a89",
   "metadata": {},
   "outputs": [
    {
     "data": {
      "text/plain": [
       "array([-1, -1,  6,  5])"
      ]
     },
     "execution_count": 4,
     "metadata": {},
     "output_type": "execute_result"
    }
   ],
   "source": [
    "#subtraction \n",
    "arr_sub=np.subtract(arr1,arr2)\n",
    "arr_sub"
   ]
  },
  {
   "cell_type": "code",
   "execution_count": 5,
   "id": "6df11457",
   "metadata": {},
   "outputs": [
    {
     "data": {
      "text/plain": [
       "array([ 2, 20,  7, 36])"
      ]
     },
     "execution_count": 5,
     "metadata": {},
     "output_type": "execute_result"
    }
   ],
   "source": [
    "#multiplication\n",
    "arr_mul=np.multiply(arr1,arr2)\n",
    "arr_mul"
   ]
  },
  {
   "cell_type": "code",
   "execution_count": 6,
   "id": "909c537e",
   "metadata": {},
   "outputs": [
    {
     "data": {
      "text/plain": [
       "array([0.5 , 0.8 , 7.  , 2.25])"
      ]
     },
     "execution_count": 6,
     "metadata": {},
     "output_type": "execute_result"
    }
   ],
   "source": [
    "#division\n",
    "arr_div=np.divide(arr1,arr2)\n",
    "arr_div"
   ]
  },
  {
   "cell_type": "code",
   "execution_count": 7,
   "id": "25e80150",
   "metadata": {},
   "outputs": [
    {
     "data": {
      "text/plain": [
       "array([   1, 1024,    7, 6561])"
      ]
     },
     "execution_count": 7,
     "metadata": {},
     "output_type": "execute_result"
    }
   ],
   "source": [
    "#power\n",
    "arr_pow=np.power(arr1,arr2)\n",
    "arr_pow"
   ]
  },
  {
   "cell_type": "code",
   "execution_count": 8,
   "id": "7593df8f",
   "metadata": {},
   "outputs": [
    {
     "name": "stdout",
     "output_type": "stream",
     "text": [
      "[1 4 0 1]\n",
      "[1 4 0 1]\n"
     ]
    }
   ],
   "source": [
    "#remainder\n",
    "arr_rem=np.remainder(arr1,arr2)\n",
    "print(arr_rem)\n",
    "#or\n",
    "arr_mod=np.mod(arr1,arr2)\n",
    "print(arr_mod)\n",
    "\n",
    "#both the functions return the same remainder."
   ]
  }
 ],
 "metadata": {
  "kernelspec": {
   "display_name": "Python 3 (ipykernel)",
   "language": "python",
   "name": "python3"
  },
  "language_info": {
   "codemirror_mode": {
    "name": "ipython",
    "version": 3
   },
   "file_extension": ".py",
   "mimetype": "text/x-python",
   "name": "python",
   "nbconvert_exporter": "python",
   "pygments_lexer": "ipython3",
   "version": "3.9.13"
  }
 },
 "nbformat": 4,
 "nbformat_minor": 5
}
