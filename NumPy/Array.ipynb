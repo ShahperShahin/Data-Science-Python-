{
 "cells": [
  {
   "cell_type": "code",
   "execution_count": 1,
   "id": "0f2564d0-1075-456e-8ffb-938fa99b732a",
   "metadata": {},
   "outputs": [],
   "source": [
    "import numpy as np"
   ]
  },
  {
   "cell_type": "code",
   "execution_count": 2,
   "id": "56068618-3049-4f35-99b4-5aa11f86d072",
   "metadata": {},
   "outputs": [],
   "source": [
    "arr=np.array(1) # 0d array"
   ]
  },
  {
   "cell_type": "code",
   "execution_count": 3,
   "id": "a6d87b29-3cc6-42b3-97b9-d6d022965c5a",
   "metadata": {},
   "outputs": [
    {
     "data": {
      "text/plain": [
       "0"
      ]
     },
     "execution_count": 3,
     "metadata": {},
     "output_type": "execute_result"
    }
   ],
   "source": [
    "arr.ndim"
   ]
  },
  {
   "cell_type": "code",
   "execution_count": 4,
   "id": "e357ce30-1894-4d22-8fe0-992ba632321f",
   "metadata": {},
   "outputs": [],
   "source": [
    "arr2=np.array([1,2,3,45]) #a 1d array/vector"
   ]
  },
  {
   "cell_type": "code",
   "execution_count": 5,
   "id": "0a054358-4024-4085-bf41-e4e7567b5176",
   "metadata": {},
   "outputs": [
    {
     "data": {
      "text/plain": [
       "1"
      ]
     },
     "execution_count": 5,
     "metadata": {},
     "output_type": "execute_result"
    }
   ],
   "source": [
    "arr2.ndim #rank of the array"
   ]
  },
  {
   "cell_type": "code",
   "execution_count": 6,
   "id": "c523d872-797a-4d58-a816-476ffb9b5916",
   "metadata": {},
   "outputs": [],
   "source": [
    "mat = np.array([[1,2,3],[4,5,6],[7,8,9]]) # a 2d array/matrices"
   ]
  },
  {
   "cell_type": "code",
   "execution_count": 7,
   "id": "270fd72b-fc70-435d-8cc3-09291728b1ad",
   "metadata": {},
   "outputs": [
    {
     "data": {
      "text/plain": [
       "array([[1, 2, 3],\n",
       "       [4, 5, 6],\n",
       "       [7, 8, 9]])"
      ]
     },
     "execution_count": 7,
     "metadata": {},
     "output_type": "execute_result"
    }
   ],
   "source": [
    "mat"
   ]
  },
  {
   "cell_type": "code",
   "execution_count": 8,
   "id": "7b25569b-8a9e-4d63-867a-a149c840a1ed",
   "metadata": {},
   "outputs": [
    {
     "data": {
      "text/plain": [
       "2"
      ]
     },
     "execution_count": 8,
     "metadata": {},
     "output_type": "execute_result"
    }
   ],
   "source": [
    "mat.ndim"
   ]
  }
 ],
 "metadata": {
  "kernelspec": {
   "display_name": "Python 3 (ipykernel)",
   "language": "python",
   "name": "python3"
  },
  "language_info": {
   "codemirror_mode": {
    "name": "ipython",
    "version": 3
   },
   "file_extension": ".py",
   "mimetype": "text/x-python",
   "name": "python",
   "nbconvert_exporter": "python",
   "pygments_lexer": "ipython3",
   "version": "3.9.13"
  }
 },
 "nbformat": 4,
 "nbformat_minor": 5
}
