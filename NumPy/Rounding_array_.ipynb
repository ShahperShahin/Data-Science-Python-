{
  "nbformat": 4,
  "nbformat_minor": 0,
  "metadata": {
    "colab": {
      "provenance": []
    },
    "kernelspec": {
      "name": "python3",
      "display_name": "Python 3"
    },
    "language_info": {
      "name": "python"
    }
  },
  "cells": [
    {
      "cell_type": "code",
      "execution_count": 1,
      "metadata": {
        "id": "MnToEwceRtGZ"
      },
      "outputs": [],
      "source": [
        "import numpy as np"
      ]
    },
    {
      "cell_type": "code",
      "source": [
        "# There are primarily 5 ways of rounding off decimals in NumPy:\n",
        " \n",
        "#1/ truncation\n",
        "#2/ fix\n",
        "#3/ rounding\n",
        "#4/ floor\n",
        "#5/ ceil"
      ],
      "metadata": {
        "id": "JsV6DlhoTZup"
      },
      "execution_count": 2,
      "outputs": []
    },
    {
      "cell_type": "code",
      "source": [
        "#1/ trucation :- Remove the decimals, and return the float number closest to zero."
      ],
      "metadata": {
        "id": "_C36yeatRvbA"
      },
      "execution_count": 3,
      "outputs": []
    },
    {
      "cell_type": "code",
      "source": [
        "arr = np.trunc([9.4666, 0.999])\n",
        "\n",
        "print(arr)"
      ],
      "metadata": {
        "colab": {
          "base_uri": "https://localhost:8080/"
        },
        "id": "hyhbluFLRy3L",
        "outputId": "72111ca6-3090-40b6-b311-a8aa2983a475"
      },
      "execution_count": 4,
      "outputs": [
        {
          "output_type": "stream",
          "name": "stdout",
          "text": [
            "[9. 0.]\n"
          ]
        }
      ]
    },
    {
      "cell_type": "code",
      "source": [
        "#2/ fix:- it function is same as of truncation"
      ],
      "metadata": {
        "id": "cHuqAy59T5ME"
      },
      "execution_count": 5,
      "outputs": []
    },
    {
      "cell_type": "code",
      "source": [
        "arr = np.fix([-3.1666, 3.6667])\n",
        "\n",
        "print(arr)\n"
      ],
      "metadata": {
        "colab": {
          "base_uri": "https://localhost:8080/"
        },
        "id": "JtjBTIRSUFfX",
        "outputId": "8a057b72-e25c-4706-d3a2-8d294a1303c2"
      },
      "execution_count": 6,
      "outputs": [
        {
          "output_type": "stream",
          "name": "stdout",
          "text": [
            "[-3.  3.]\n"
          ]
        }
      ]
    },
    {
      "cell_type": "code",
      "source": [
        "#3/ rounding :- it increments preceding digit or decimal by 1 if >=5 else do nothing."
      ],
      "metadata": {
        "id": "335q3Lx4SI46"
      },
      "execution_count": 7,
      "outputs": []
    },
    {
      "cell_type": "code",
      "source": [
        "num= np.around(8.16786 ,2 ) # 2 here is a parameter which tells that till how much place after decimal is need to be rounded off\n",
        "\n",
        "print(num)"
      ],
      "metadata": {
        "colab": {
          "base_uri": "https://localhost:8080/"
        },
        "id": "QCxtnpPnSmVg",
        "outputId": "cc2d02f1-8e8f-424d-a28f-120568e18aed"
      },
      "execution_count": 8,
      "outputs": [
        {
          "output_type": "stream",
          "name": "stdout",
          "text": [
            "8.17\n"
          ]
        }
      ]
    },
    {
      "cell_type": "code",
      "source": [
        "#4/ floor:- it rounds off decimal to nearest lower integer."
      ],
      "metadata": {
        "id": "7t_vah2zSrl3"
      },
      "execution_count": 9,
      "outputs": []
    },
    {
      "cell_type": "code",
      "source": [
        "arr = np.floor([6.78932, 5.378])\n",
        "\n",
        "print(arr)\n"
      ],
      "metadata": {
        "colab": {
          "base_uri": "https://localhost:8080/"
        },
        "id": "3xZQgL-dUTzL",
        "outputId": "41b12cca-182d-4b02-edee-7fe2c1f029e2"
      },
      "execution_count": 10,
      "outputs": [
        {
          "output_type": "stream",
          "name": "stdout",
          "text": [
            "[6. 5.]\n"
          ]
        }
      ]
    },
    {
      "cell_type": "code",
      "source": [
        "#5/ ceil:-it rounds off decimal to nearest upper integer."
      ],
      "metadata": {
        "id": "-cSbHY7kUeRg"
      },
      "execution_count": 11,
      "outputs": []
    },
    {
      "cell_type": "code",
      "source": [
        "arr = np.ceil([0.123, 7.923797, 3.111])\n",
        "\n",
        "print(arr)\n"
      ],
      "metadata": {
        "colab": {
          "base_uri": "https://localhost:8080/"
        },
        "id": "53-yI8ziUrsW",
        "outputId": "64ec373c-eb9c-4bef-fed6-fa845e1ad0a6"
      },
      "execution_count": 12,
      "outputs": [
        {
          "output_type": "stream",
          "name": "stdout",
          "text": [
            "[1. 8. 4.]\n"
          ]
        }
      ]
    }
  ]
}