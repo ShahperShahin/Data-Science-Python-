{
  "nbformat": 4,
  "nbformat_minor": 0,
  "metadata": {
    "colab": {
      "provenance": []
    },
    "kernelspec": {
      "name": "python3",
      "display_name": "Python 3"
    },
    "language_info": {
      "name": "python"
    }
  },
  "cells": [
    {
      "cell_type": "code",
      "execution_count": 1,
      "metadata": {
        "id": "LZxQUO1ltUyg"
      },
      "outputs": [],
      "source": [
        "import numpy as np"
      ]
    },
    {
      "cell_type": "code",
      "source": [
        "arr = np.array([1,2,3,4,5,6,7,8,9])"
      ],
      "metadata": {
        "id": "EhjJqAzgtWz7"
      },
      "execution_count": 2,
      "outputs": []
    },
    {
      "cell_type": "code",
      "source": [
        "#create a empty list to further insert the filtered data in it \n",
        "filtered_arr = []"
      ],
      "metadata": {
        "id": "COxy375Htcrx"
      },
      "execution_count": 3,
      "outputs": []
    },
    {
      "cell_type": "code",
      "source": [
        "for element in arr:\n",
        "  #any element greater than 4 will be filtered \n",
        "  if element >4 :\n",
        "    filtered_arr.append(True)\n",
        "    #any element lesse than 4 will be eliminated  \n",
        "  else:\n",
        "      filtered_arr.append(False)"
      ],
      "metadata": {
        "id": "H2f2kMAkt2ee"
      },
      "execution_count": 4,
      "outputs": []
    },
    {
      "cell_type": "code",
      "source": [
        "new_arr=arr[filtered_arr]"
      ],
      "metadata": {
        "id": "Sv7JJ9rBuaAy"
      },
      "execution_count": 5,
      "outputs": []
    },
    {
      "cell_type": "code",
      "source": [
        "new_arr"
      ],
      "metadata": {
        "colab": {
          "base_uri": "https://localhost:8080/"
        },
        "id": "GvyPJnsquv7g",
        "outputId": "deaacb66-2ba5-4fb3-bbce-2f728ff78ab0"
      },
      "execution_count": 6,
      "outputs": [
        {
          "output_type": "execute_result",
          "data": {
            "text/plain": [
              "array([5, 6, 7, 8, 9])"
            ]
          },
          "metadata": {},
          "execution_count": 6
        }
      ]
    }
  ]
}